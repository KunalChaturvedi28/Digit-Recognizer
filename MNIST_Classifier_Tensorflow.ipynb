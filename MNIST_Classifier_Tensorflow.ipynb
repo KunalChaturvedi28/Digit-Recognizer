{
 "cells": [
  {
   "cell_type": "code",
   "execution_count": 1,
   "metadata": {
    "colab": {
     "autoexec": {
      "startup": false,
      "wait_interval": 0
     }
    },
    "colab_type": "code",
    "id": "VDP5_7F-zPGw"
   },
   "outputs": [],
   "source": [
    "import numpy as np\n",
    "import tensorflow as tf\n",
    "import random\n",
    "import matplotlib.pyplot as plt\n",
    "%matplotlib inline"
   ]
  },
  {
   "cell_type": "code",
   "execution_count": 2,
   "metadata": {
    "colab": {
     "autoexec": {
      "startup": false,
      "wait_interval": 0
     }
    },
    "colab_type": "code",
    "id": "dd9iyWsazofA"
   },
   "outputs": [],
   "source": [
    "tf.logging.set_verbosity(tf.logging.INFO)"
   ]
  },
  {
   "cell_type": "code",
   "execution_count": 3,
   "metadata": {
    "colab": {
     "autoexec": {
      "startup": false,
      "wait_interval": 0
     }
    },
    "colab_type": "code",
    "id": "bqgWxgMczplc"
   },
   "outputs": [],
   "source": [
    "def cnn_model_fn(features,labels,mode):\n",
    "\t#Correct dimensions\n",
    "\tinput_layer = tf.reshape(features[\"x\"], [-1,28,28,1])\n",
    "\n",
    "\t#Define Model\n",
    "\tconv1 = tf.layers.conv2d(\n",
    "\t\tinputs = input_layer,\n",
    "\t\tfilters=32,\n",
    "\t\tkernel_size=[5,5],\n",
    "\t\tpadding=\"same\", \n",
    "\t\tactivation=tf.nn.relu)\n",
    "\n",
    "\tpool1 = tf.layers.max_pooling2d(inputs=conv1, pool_size=[2,2],strides=2)\n",
    "\n",
    "\tconv2 = tf.layers.conv2d(\n",
    "\t\tinputs=pool1,\n",
    "\t\tfilters=64,\n",
    "\t\tkernel_size=[5,5],\n",
    "\t\tpadding=\"same\",\n",
    "\t\tactivation=tf.nn.relu)\n",
    "\n",
    "\tpool2 = tf.layers.max_pooling2d(inputs=conv2, pool_size=[2,2],strides=2)\n",
    "\n",
    "\tpool2_flat = tf.reshape(pool2, [-1,7*7*64])\n",
    "\tdense = tf.layers.dense(inputs=pool2_flat, units=1024,activation=tf.nn.relu)\n",
    "\tdropout = tf.layers.dropout(\n",
    "\t\tinputs=dense, rate=0.4, training=mode == tf.estimator.ModeKeys.TRAIN)\n",
    "\tlogits = tf.layers.dense(inputs=dropout,units=10)\n",
    "\n",
    "\t#Predictions\n",
    "\tpredictions = {\n",
    "\t\t\"classes\":tf.argmax(input=logits,axis=1),\n",
    "\t\t\"probabilities\": tf.nn.softmax(logits, name=\"softmax_tensor\")\n",
    "\t}\n",
    "\n",
    "\t#Predict Mode\n",
    "\tif mode == tf.estimator.ModeKeys.PREDICT :\n",
    "\t\treturn tf.estimator.EstimatorSpec(mode=mode, predictions=predictions)\n",
    "\n",
    "\t#Loss (eval and train both)\n",
    "\t# One hot labels ? \n",
    "\t# onehot_labels = tf.one_hot(indices=tf.cast(labels,tf.int32), depth=10)\n",
    "\tloss = tf.losses.sparse_softmax_cross_entropy(labels=labels, logits=logits) # onehot_labels=onehot_labels\n",
    "\n",
    "\t#Train\n",
    "\tif mode == tf.estimator.ModeKeys.TRAIN :\n",
    "\t\toptimizer = tf.train.GradientDescentOptimizer(learning_rate=0.01)\n",
    "\t\ttrain_op = optimizer.minimize(\n",
    "\t\t\tloss = loss,\n",
    "\t\t\tglobal_step = tf.train.get_global_step())\n",
    "\t\treturn tf.estimator.EstimatorSpec(mode=mode, loss=loss, train_op=train_op)\n",
    "\n",
    "\t#Eval\n",
    "\teval_metric_ops = {\n",
    "\t\t\"accuracy\" : tf.metrics.accuracy(\n",
    "\t\t\tlabels=labels, predictions=predictions[\"classes\"])}\n",
    "\treturn tf.estimator.EstimatorSpec(mode=mode, loss=loss, eval_metric_ops=eval_metric_ops)"
   ]
  },
  {
   "cell_type": "code",
   "execution_count": 5,
   "metadata": {
    "colab": {
     "autoexec": {
      "startup": false,
      "wait_interval": 0
     },
     "base_uri": "https://localhost:8080/",
     "height": 489
    },
    "colab_type": "code",
    "executionInfo": {
     "elapsed": 10294,
     "status": "ok",
     "timestamp": 1530974011570,
     "user": {
      "displayName": "Dipani Alish Rajesh",
      "photoUrl": "https://lh3.googleusercontent.com/a/default-user=s128",
      "userId": "105760295303045246892"
     },
     "user_tz": -330
    },
    "id": "CYMyPLU-zspE",
    "outputId": "1ee8b5a2-d390-4960-aa4b-eb72af7a5f7c"
   },
   "outputs": [
    {
     "name": "stdout",
     "output_type": "stream",
     "text": [
      "Extracting MNIST_data/train-images-idx3-ubyte.gz\n",
      "Extracting MNIST_data/train-labels-idx1-ubyte.gz\n",
      "Extracting MNIST_data/t10k-images-idx3-ubyte.gz\n",
      "Extracting MNIST_data/t10k-labels-idx1-ubyte.gz\n"
     ]
    }
   ],
   "source": [
    "from tensorflow.examples.tutorials.mnist import input_data\n",
    "mnist = input_data.read_data_sets(\"MNIST_data/\", one_hot=False)\n",
    "train_data = mnist.train.images\n",
    "train_labels = np.asarray(mnist.train.labels, dtype=np.int32)\n",
    "eval_data = mnist.test.images\n",
    "eval_labels = np.asarray(mnist.test.labels, dtype=np.int32)"
   ]
  },
  {
   "cell_type": "code",
   "execution_count": 6,
   "metadata": {
    "colab": {
     "autoexec": {
      "startup": false,
      "wait_interval": 0
     },
     "base_uri": "https://localhost:8080/",
     "height": 663
    },
    "colab_type": "code",
    "executionInfo": {
     "elapsed": 3814,
     "status": "ok",
     "timestamp": 1530974015452,
     "user": {
      "displayName": "Dipani Alish Rajesh",
      "photoUrl": "https://lh3.googleusercontent.com/a/default-user=s128",
      "userId": "105760295303045246892"
     },
     "user_tz": -330
    },
    "id": "zWz9cHvZYUjE",
    "outputId": "aeacbce4-ec1c-47dd-c5a3-6c51c8e2e92c"
   },
   "outputs": [
    {
     "name": "stdout",
     "output_type": "stream",
     "text": [
      "16 Random images and their labels\n"
     ]
    },
    {
     "data": {
      "image/png": "[encoded data removed]",
      "text/plain": [
       "<Figure size 576x576 with 16 Axes>"
      ]
     },
     "metadata": {},
     "output_type": "display_data"
    }
   ],
   "source": [
    "#Preview random image\n",
    "fig = plt.figure(figsize=(8,8))\n",
    "plt.subplots_adjust(top=1.2)\n",
    "col = 4\n",
    "row = 4\n",
    "print(str(col*row)+\" Random images and their labels\")\n",
    "ri = random.sample(range(0,len(train_data)),col*row)\n",
    "rii = 0\n",
    "for i in range(1, col*row+1):\n",
    "  img = np.copy(train_data[ri[rii]])\n",
    "  img = img.reshape((28,28))\n",
    "  img = np.asarray(img, dtype=np.float32)\n",
    "  fig.add_subplot(row,col,i)\n",
    "  x_label = 'Label : ' + str(train_labels[ri[rii]])\n",
    "  plt.xlabel(x_label)\n",
    "  plt.imshow(img, interpolation = 'nearest')\n",
    "  rii = rii + 1\n",
    "_ = plt.show()"
   ]
  },
  {
   "cell_type": "code",
   "execution_count": 7,
   "metadata": {
    "colab": {
     "autoexec": {
      "startup": false,
      "wait_interval": 0
     },
     "base_uri": "https://localhost:8080/",
     "height": 72
    },
    "colab_type": "code",
    "executionInfo": {
     "elapsed": 1586,
     "status": "ok",
     "timestamp": 1530974017113,
     "user": {
      "displayName": "Dipani Alish Rajesh",
      "photoUrl": "https://lh3.googleusercontent.com/a/default-user=s128",
      "userId": "105760295303045246892"
     },
     "user_tz": -330
    },
    "id": "EoWs7JZA06Ea",
    "outputId": "401a5ba9-f8ef-423f-bfc7-404fc73dde67"
   },
   "outputs": [
    {
     "name": "stdout",
     "output_type": "stream",
     "text": [
      "INFO:tensorflow:Using default config.\n",
      "INFO:tensorflow:Using config: {'_model_dir': '/tmp/mnist_convnet_modelpr', '_tf_random_seed': None, '_save_summary_steps': 100, '_save_checkpoints_steps': None, '_save_checkpoints_secs': 600, '_session_config': None, '_keep_checkpoint_max': 5, '_keep_checkpoint_every_n_hours': 10000, '_log_step_count_steps': 100, '_train_distribute': None, '_service': None, '_cluster_spec': <tensorflow.python.training.server_lib.ClusterSpec object at 0x7fad06a7ba20>, '_task_type': 'worker', '_task_id': 0, '_global_id_in_cluster': 0, '_master': '', '_evaluation_master': '', '_is_chief': True, '_num_ps_replicas': 0, '_num_worker_replicas': 1}\n"
     ]
    }
   ],
   "source": [
    "mnist_classifier = tf.estimator.Estimator(\n",
    "model_fn = cnn_model_fn, model_dir = \"/tmp/mnist_convnet_modelpr\")"
   ]
  },
  {
   "cell_type": "code",
   "execution_count": 8,
   "metadata": {
    "colab": {
     "autoexec": {
      "startup": false,
      "wait_interval": 0
     }
    },
    "colab_type": "code",
    "id": "UvUtNKARLlWJ"
   },
   "outputs": [],
   "source": [
    "# Logging predictions\n",
    "tensors_to_log = {\"probabilities\" : \"softmax_tensor\"}\n",
    "logging_hook = tf.train.LoggingTensorHook(\n",
    "  tensors = tensors_to_log, every_n_iter=500)"
   ]
  },
  {
   "cell_type": "code",
   "execution_count": 9,
   "metadata": {
    "colab": {
     "autoexec": {
      "startup": false,
      "wait_interval": 0
     },
     "base_uri": "https://localhost:8080/",
     "height": 2761
    },
    "colab_type": "code",
    "executionInfo": {
     "elapsed": 57303,
     "status": "ok",
     "timestamp": 1530974075961,
     "user": {
      "displayName": "Dipani Alish Rajesh",
      "photoUrl": "https://lh3.googleusercontent.com/a/default-user=s128",
      "userId": "105760295303045246892"
     },
     "user_tz": -330
    },
    "id": "dK8NErM0Lppm",
    "outputId": "72732731-f5f9-47ea-8fc9-c057ca8cc1ba"
   },
   "outputs": [
    {
     "name": "stdout",
     "output_type": "stream",
     "text": [
      "INFO:tensorflow:Calling model_fn.\n",
      "INFO:tensorflow:Done calling model_fn.\n",
      "INFO:tensorflow:Create CheckpointSaverHook.\n",
      "INFO:tensorflow:Graph was finalized.\n",
      "INFO:tensorflow:Running local_init_op.\n",
      "INFO:tensorflow:Done running local_init_op.\n",
      "INFO:tensorflow:Saving checkpoints for 1 into /tmp/mnist_convnet_modelpr/model.ckpt.\n",
      "INFO:tensorflow:probabilities = [[0.10659222 0.10483029 0.09066836 ... 0.09512464 0.11550292 0.09699661]\n",
      " [0.09612888 0.11424766 0.08816691 ... 0.10810445 0.10691498 0.0950122 ]\n",
      " [0.09678549 0.11276269 0.09009096 ... 0.10688423 0.1057261  0.09530787]\n",
      " ...\n",
      " [0.10892161 0.11128951 0.09954917 ... 0.08338356 0.10962592 0.08133693]\n",
      " [0.10788575 0.10470948 0.08668446 ... 0.09587133 0.10356233 0.09514458]\n",
      " [0.09853997 0.09652935 0.09207782 ... 0.09598948 0.12102686 0.08984394]]\n",
      "INFO:tensorflow:loss = 2.3235822, step = 1\n",
      "INFO:tensorflow:global_step/sec: 1.99846\n",
      "INFO:tensorflow:loss = 2.0272045, step = 101 (50.038 sec)\n",
      "INFO:tensorflow:global_step/sec: 1.85846\n",
      "INFO:tensorflow:loss = 0.8408804, step = 201 (53.808 sec)\n",
      "INFO:tensorflow:global_step/sec: 2.02533\n",
      "INFO:tensorflow:loss = 0.5647222, step = 301 (49.375 sec)\n",
      "INFO:tensorflow:global_step/sec: 1.81129\n",
      "INFO:tensorflow:loss = 0.38018516, step = 401 (55.215 sec)\n",
      "INFO:tensorflow:global_step/sec: 1.81824\n",
      "INFO:tensorflow:probabilities = [[0.00004626 0.9795084  0.00025079 ... 0.00041361 0.01473488 0.00086608]\n",
      " [0.00076472 0.00000858 0.00005558 ... 0.00023242 0.00236757 0.10015359]\n",
      " [0.00308392 0.5758523  0.03263458 ... 0.05690895 0.17641234 0.01687253]\n",
      " ...\n",
      " [0.00009612 0.12549783 0.00087488 ... 0.00664037 0.45884755 0.3888503 ]\n",
      " [0.00009893 0.00007669 0.00008087 ... 0.0193487  0.00505241 0.9006757 ]\n",
      " [0.9865072  0.00000197 0.00126355 ... 0.00020783 0.00062459 0.00006144]] (263.429 sec)\n",
      "INFO:tensorflow:loss = 0.46867067, step = 501 (54.994 sec)\n",
      "INFO:tensorflow:global_step/sec: 1.74799\n",
      "INFO:tensorflow:loss = 0.33726186, step = 601 (57.207 sec)\n",
      "INFO:tensorflow:global_step/sec: 2.04437\n",
      "INFO:tensorflow:loss = 0.2537545, step = 701 (48.915 sec)\n",
      "INFO:tensorflow:global_step/sec: 2.03194\n",
      "INFO:tensorflow:loss = 0.21686605, step = 801 (49.214 sec)\n",
      "INFO:tensorflow:global_step/sec: 2.02581\n",
      "INFO:tensorflow:loss = 0.29313082, step = 901 (49.363 sec)\n",
      "INFO:tensorflow:global_step/sec: 2.06868\n",
      "INFO:tensorflow:probabilities = [[0.8928992  0.00001678 0.03090751 ... 0.00040774 0.00150171 0.00052631]\n",
      " [0.8109052  0.00058608 0.01324294 ... 0.00498541 0.01887195 0.01388375]\n",
      " [0.00003287 0.979832   0.00940939 ... 0.00117848 0.00594752 0.00048883]\n",
      " ...\n",
      " [0.00334382 0.00288185 0.0709128  ... 0.00001955 0.70093095 0.00012849]\n",
      " [0.00219018 0.00013512 0.02328229 ... 0.00249038 0.68072164 0.27963215]\n",
      " [0.00011481 0.99502987 0.00056    ... 0.00043991 0.00158001 0.00042356]] (253.041 sec)\n",
      "INFO:tensorflow:loss = 0.15834256, step = 1001 (48.341 sec)\n",
      "INFO:tensorflow:global_step/sec: 1.69514\n",
      "INFO:tensorflow:loss = 0.17976737, step = 1101 (58.992 sec)\n",
      "INFO:tensorflow:Saving checkpoints for 1134 into /tmp/mnist_convnet_modelpr/model.ckpt.\n",
      "INFO:tensorflow:global_step/sec: 1.669\n",
      "INFO:tensorflow:loss = 0.26541263, step = 1201 (59.916 sec)\n",
      "INFO:tensorflow:global_step/sec: 1.83145\n",
      "INFO:tensorflow:loss = 0.24987194, step = 1301 (54.601 sec)\n",
      "INFO:tensorflow:global_step/sec: 2.02329\n",
      "INFO:tensorflow:loss = 0.15893228, step = 1401 (49.425 sec)\n",
      "INFO:tensorflow:global_step/sec: 2.05947\n",
      "INFO:tensorflow:probabilities = [[0.00002481 0.00014554 0.00004496 ... 0.00018032 0.00067228 0.0012192 ]\n",
      " [0.00001406 0.00001412 0.00012403 ... 0.00103174 0.00200182 0.9856695 ]\n",
      " [0.00001464 0.00000213 0.00002039 ... 0.01966186 0.00034586 0.92376834]\n",
      " ...\n",
      " [0.00001036 0.00000021 0.00012324 ... 0.00000001 0.99953544 0.00000931]\n",
      " [0.00000268 0.99362284 0.00351589 ... 0.00055347 0.00121206 0.00000995]\n",
      " [0.0000007  0.00000182 0.00004801 ... 0.9970493  0.00000415 0.00282203]] (271.491 sec)\n",
      "INFO:tensorflow:loss = 0.13995415, step = 1501 (48.557 sec)\n",
      "INFO:tensorflow:global_step/sec: 2.1093\n",
      "INFO:tensorflow:loss = 0.1473303, step = 1601 (47.408 sec)\n",
      "INFO:tensorflow:global_step/sec: 2.10318\n",
      "INFO:tensorflow:loss = 0.25883085, step = 1701 (47.548 sec)\n",
      "INFO:tensorflow:global_step/sec: 2.11374\n",
      "INFO:tensorflow:loss = 0.12423104, step = 1801 (47.308 sec)\n",
      "INFO:tensorflow:global_step/sec: 1.74176\n",
      "INFO:tensorflow:loss = 0.10194868, step = 1901 (57.413 sec)\n",
      "INFO:tensorflow:global_step/sec: 1.89998\n",
      "INFO:tensorflow:probabilities = [[0.0010292  0.00001382 0.9334862  ... 0.02332089 0.02261804 0.00044146]\n",
      " [0.14599544 0.00001374 0.00068623 ... 0.00000002 0.00132985 0.00001305]\n",
      " [0.00014976 0.8823304  0.01673553 ... 0.00499883 0.06228948 0.00023072]\n",
      " ...\n",
      " [0.00001373 0.00008616 0.9988833  ... 0.00020867 0.00009648 0.00001079]\n",
      " [0.9979825  0.00000032 0.00016837 ... 0.00000237 0.00031837 0.00003833]\n",
      " [0.00003906 0.00000017 0.00008625 ... 0.00000158 0.9992729  0.00005996]] (252.311 sec)\n",
      "INFO:tensorflow:loss = 0.21569568, step = 2001 (52.634 sec)\n",
      "INFO:tensorflow:global_step/sec: 1.92397\n",
      "INFO:tensorflow:loss = 0.13367024, step = 2101 (51.975 sec)\n",
      "INFO:tensorflow:global_step/sec: 1.96194\n",
      "INFO:tensorflow:loss = 0.18302341, step = 2201 (50.970 sec)\n",
      "INFO:tensorflow:global_step/sec: 1.91126\n",
      "INFO:tensorflow:loss = 0.07999713, step = 2301 (52.321 sec)\n",
      "INFO:tensorflow:Saving checkpoints for 2311 into /tmp/mnist_convnet_modelpr/model.ckpt.\n",
      "INFO:tensorflow:global_step/sec: 1.94301\n",
      "INFO:tensorflow:loss = 0.11136244, step = 2401 (51.467 sec)\n",
      "INFO:tensorflow:global_step/sec: 2.02918\n",
      "INFO:tensorflow:probabilities = [[0.00071574 0.00029744 0.00058002 ... 0.00023731 0.9450165  0.00133512]\n",
      " [0.00048615 0.00003662 0.0004674  ... 0.00000161 0.996447   0.00025156]\n",
      " [0.01262538 0.0002054  0.00185008 ... 0.00001417 0.00229643 0.00004486]\n",
      " ...\n",
      " [0.0000031  0.0000003  0.00370023 ... 0.99361444 0.00227035 0.00032416]\n",
      " [0.00001588 0.9928697  0.0030909  ... 0.00048195 0.00172796 0.00010448]\n",
      " [0.99993443 0.00000002 0.00002936 ... 0.00000003 0.00000472 0.00000457]] (256.015 sec)\n",
      "INFO:tensorflow:loss = 0.13349113, step = 2501 (49.283 sec)\n",
      "INFO:tensorflow:global_step/sec: 2.10559\n",
      "INFO:tensorflow:loss = 0.07522559, step = 2601 (47.491 sec)\n",
      "INFO:tensorflow:global_step/sec: 2.10704\n",
      "INFO:tensorflow:loss = 0.10997838, step = 2701 (47.460 sec)\n",
      "INFO:tensorflow:global_step/sec: 2.05395\n",
      "INFO:tensorflow:loss = 0.03059917, step = 2801 (48.686 sec)\n",
      "INFO:tensorflow:global_step/sec: 2.06169\n",
      "INFO:tensorflow:loss = 0.10485183, step = 2901 (48.504 sec)\n",
      "INFO:tensorflow:global_step/sec: 1.89363\n",
      "INFO:tensorflow:probabilities = [[0.0000024  0.00003382 0.00000201 ... 0.0000032  0.00053368 0.00000275]\n",
      " [0.00000592 0.00002785 0.00039481 ... 0.00007012 0.00002079 0.00011037]\n",
      " [0.00001555 0.00001017 0.9649204  ... 0.00549417 0.00073434 0.00000165]\n",
      " ...\n",
      " [0.9998211  0.00000001 0.00007838 ... 0.00000527 0.00001726 0.0000027 ]\n",
      " [0.23259398 0.173102   0.16418526 ... 0.00752369 0.00093075 0.01288975]\n",
      " [0.00000039 0.00000781 0.00011895 ... 0.99973327 0.00000183 0.00011906]] (244.952 sec)\n",
      "INFO:tensorflow:loss = 0.122532494, step = 3001 (52.810 sec)\n",
      "INFO:tensorflow:global_step/sec: 2.0905\n",
      "INFO:tensorflow:loss = 0.083618015, step = 3101 (47.834 sec)\n",
      "INFO:tensorflow:global_step/sec: 2.04693\n",
      "INFO:tensorflow:loss = 0.14325829, step = 3201 (48.853 sec)\n",
      "INFO:tensorflow:global_step/sec: 1.905\n",
      "INFO:tensorflow:loss = 0.021349119, step = 3301 (52.493 sec)\n",
      "INFO:tensorflow:global_step/sec: 1.93769\n",
      "INFO:tensorflow:loss = 0.056211285, step = 3401 (51.608 sec)\n",
      "INFO:tensorflow:global_step/sec: 1.97587\n",
      "INFO:tensorflow:probabilities = [[0.0002207  0.96161276 0.00150984 ... 0.02518726 0.00427658 0.00082153]\n",
      " [0.00009182 0.00001066 0.00004643 ... 0.00605436 0.00133981 0.9905184 ]\n",
      " [0.01140292 0.00003139 0.00997936 ... 0.00068594 0.1265757  0.13715725]\n",
      " ...\n",
      " [0.00000359 0.         0.00000279 ... 0.98373175 0.00000009 0.01624323]\n",
      " [0.00000093 0.         0.0000184  ... 0.99854076 0.00000041 0.00142243]\n",
      " [0.99238443 0.00000182 0.00180899 ... 0.000016   0.00339061 0.00006058]] (251.404 sec)\n",
      "INFO:tensorflow:loss = 0.06677065, step = 3501 (50.615 sec)\n",
      "INFO:tensorflow:Saving checkpoints for 3518 into /tmp/mnist_convnet_modelpr/model.ckpt.\n",
      "INFO:tensorflow:global_step/sec: 1.90027\n",
      "INFO:tensorflow:loss = 0.108734116, step = 3601 (52.619 sec)\n",
      "INFO:tensorflow:global_step/sec: 2.03358\n"
     ]
    },
    {
     "name": "stdout",
     "output_type": "stream",
     "text": [
      "INFO:tensorflow:loss = 0.0674668, step = 3701 (49.174 sec)\n",
      "INFO:tensorflow:global_step/sec: 2.00122\n",
      "INFO:tensorflow:loss = 0.07927959, step = 3801 (49.970 sec)\n",
      "INFO:tensorflow:global_step/sec: 2.01801\n",
      "INFO:tensorflow:loss = 0.07494091, step = 3901 (49.554 sec)\n",
      "INFO:tensorflow:global_step/sec: 1.93374\n",
      "INFO:tensorflow:probabilities = [[0.00060723 0.00000083 0.9911618  ... 0.00001834 0.00779005 0.00024694]\n",
      " [0.00508307 0.00008368 0.00008998 ... 0.30250007 0.00021835 0.6882529 ]\n",
      " [0.0000018  0.00000576 0.00032815 ... 0.05877894 0.00030658 0.12432382]\n",
      " ...\n",
      " [0.         0.00000028 0.00000001 ... 0.00000211 0.00000402 0.00053092]\n",
      " [0.00000698 0.00001025 0.00000095 ... 0.00066589 0.00025255 0.00149377]\n",
      " [0.00001095 0.00004838 0.00018946 ... 0.00012632 0.00081564 0.00382439]] (253.032 sec)\n",
      "INFO:tensorflow:loss = 0.09973985, step = 4001 (51.715 sec)\n",
      "INFO:tensorflow:global_step/sec: 2.01088\n",
      "INFO:tensorflow:loss = 0.093766615, step = 4101 (49.727 sec)\n",
      "INFO:tensorflow:global_step/sec: 2.00492\n",
      "INFO:tensorflow:loss = 0.07450803, step = 4201 (49.879 sec)\n",
      "INFO:tensorflow:Saving checkpoints for 4297 into /tmp/mnist_convnet_modelpr/model.ckpt.\n",
      "INFO:tensorflow:Loss for final step: 0.07060338.\n"
     ]
    },
    {
     "data": {
      "text/plain": [
       "<tensorflow.python.estimator.estimator.Estimator at 0x7fad06a7b828>"
      ]
     },
     "execution_count": 9,
     "metadata": {},
     "output_type": "execute_result"
    }
   ],
   "source": [
    "#Training\n",
    "train_input_fn = tf.estimator.inputs.numpy_input_fn(\n",
    "  x = {\"x\": train_data},\n",
    "  y=train_labels,\n",
    "\tbatch_size=128,\n",
    "\tnum_epochs = 10,\n",
    "\tshuffle=True)\n",
    "mnist_classifier.train(input_fn = train_input_fn, hooks = [logging_hook])"
   ]
  },
  {
   "cell_type": "code",
   "execution_count": 10,
   "metadata": {
    "colab": {
     "autoexec": {
      "startup": false,
      "wait_interval": 0
     },
     "base_uri": "https://localhost:8080/",
     "height": 243
    },
    "colab_type": "code",
    "executionInfo": {
     "elapsed": 2110,
     "status": "ok",
     "timestamp": 1530974078141,
     "user": {
      "displayName": "Dipani Alish Rajesh",
      "photoUrl": "https://lh3.googleusercontent.com/a/default-user=s128",
      "userId": "105760295303045246892"
     },
     "user_tz": -330
    },
    "id": "HpKUCrbyLuSN",
    "outputId": "cbba1eb9-2ee6-432a-db81-6af90b0b47d7"
   },
   "outputs": [
    {
     "name": "stdout",
     "output_type": "stream",
     "text": [
      "INFO:tensorflow:Calling model_fn.\n",
      "INFO:tensorflow:Done calling model_fn.\n",
      "INFO:tensorflow:Starting evaluation at 2018-07-14-14:06:37\n",
      "INFO:tensorflow:Graph was finalized.\n",
      "INFO:tensorflow:Restoring parameters from /tmp/mnist_convnet_modelpr/model.ckpt-4297\n",
      "INFO:tensorflow:Running local_init_op.\n",
      "INFO:tensorflow:Done running local_init_op.\n",
      "INFO:tensorflow:Finished evaluation at 2018-07-14-14:06:51\n",
      "INFO:tensorflow:Saving dict for global step 4297: accuracy = 0.9799, global_step = 4297, loss = 0.06461509\n",
      "{'accuracy': 0.9799, 'loss': 0.06461509, 'global_step': 4297}\n",
      "\n",
      "The accuracy on Test Dataset is : 97.99000024795532% and the loss is : 0.06461509\n"
     ]
    }
   ],
   "source": [
    "#Eval\n",
    "eval_input_fn = tf.estimator.inputs.numpy_input_fn(\n",
    "\tx={\"x\":eval_data},\n",
    "\ty=eval_labels,\n",
    "\tnum_epochs=1,\n",
    "\tshuffle=False)\n",
    "eval_results = mnist_classifier.evaluate(input_fn=eval_input_fn)\n",
    "print(eval_results)\n",
    "print()\n",
    "print(\"The accuracy on Test Dataset is : \"+str(eval_results[\"accuracy\"]*100) + \"% and the loss is : \" + str(eval_results[\"loss\"]))"
   ]
  },
  {
   "cell_type": "code",
   "execution_count": 11,
   "metadata": {
    "colab": {
     "autoexec": {
      "startup": false,
      "wait_interval": 0
     },
     "base_uri": "https://localhost:8080/",
     "height": 779
    },
    "colab_type": "code",
    "executionInfo": {
     "elapsed": 3378,
     "status": "ok",
     "timestamp": 1530974081604,
     "user": {
      "displayName": "Dipani Alish Rajesh",
      "photoUrl": "https://lh3.googleusercontent.com/a/default-user=s128",
      "userId": "105760295303045246892"
     },
     "user_tz": -330
    },
    "id": "pzMGL6nsYqxB",
    "outputId": "e5ff079a-dff8-4133-82d3-30ab1e121e00"
   },
   "outputs": [
    {
     "name": "stdout",
     "output_type": "stream",
     "text": [
      "16 Random images and their labels and predicted class\n",
      "INFO:tensorflow:Calling model_fn.\n",
      "INFO:tensorflow:Done calling model_fn.\n",
      "INFO:tensorflow:Graph was finalized.\n",
      "INFO:tensorflow:Restoring parameters from /tmp/mnist_convnet_modelpr/model.ckpt-4297\n",
      "INFO:tensorflow:Running local_init_op.\n",
      "INFO:tensorflow:Done running local_init_op.\n"
     ]
    },
    {
     "data": {
      "image/png": "[encoded data removed]",
      "text/plain": [
       "<Figure size 576x576 with 16 Axes>"
      ]
     },
     "metadata": {},
     "output_type": "display_data"
    }
   ],
   "source": [
    "#Preview random image\n",
    "fig = plt.figure(figsize=(8,8))\n",
    "plt.subplots_adjust(top=1.2)\n",
    "col = 4\n",
    "row = 4\n",
    "print(str(col*row)+\" Random images and their labels and predicted class\")\n",
    "#Generating random numbers, these numbers will be the indices of the images chosen\n",
    "ri = random.sample(range(0,len(eval_data)),col*row)\n",
    "\n",
    "#predict_x stores images chosen\n",
    "predict_x = []\n",
    "for i in ri:\n",
    "  predict_x.append(np.array(eval_data[i],dtype=np.float32))\n",
    "\n",
    "#Estimator to predict classes\n",
    "predict_input_fn = tf.estimator.inputs.numpy_input_fn(x={\"x\":np.array(predict_x,dtype=np.float32)},shuffle=False)\n",
    "predictions = mnist_classifier.predict(input_fn = predict_input_fn)\n",
    "#Storing the classes predicted\n",
    "predicted_class = []\n",
    "for pred_dict in predictions:\n",
    "  predicted_class.append(pred_dict['classes'])\n",
    "\n",
    "#Plotting\n",
    "rii = 0\n",
    "for i in range(1, col*row+1):\n",
    "  img = np.copy(eval_data[ri[rii]])\n",
    "  img = img.reshape((28,28))\n",
    "  img = np.asarray(img, dtype=np.float32)\n",
    "  fig.add_subplot(row,col,i)\n",
    "  x_label = 'Label : ' + str(eval_labels[ri[rii]]) + \"\\n\" + \"Predicted Class : \" + str(predicted_class[rii])\n",
    "  plt.xlabel(x_label)\n",
    "  plt.imshow(img, interpolation = 'nearest')\n",
    "  rii = rii + 1\n",
    "_ = plt.show()"
   ]
  }
 ],
 "metadata": {
  "accelerator": "GPU",
  "colab": {
   "default_view": {},
   "name": "MNIST.ipynb",
   "provenance": [],
   "version": "0.3.2",
   "views": {}
  },
  "kernelspec": {
   "display_name": "Python 3",
   "language": "python",
   "name": "python3"
  },
  "language_info": {
   "codemirror_mode": {
    "name": "ipython",
    "version": 3
   },
   "file_extension": ".py",
   "mimetype": "text/x-python",
   "name": "python",
   "nbconvert_exporter": "python",
   "pygments_lexer": "ipython3",
   "version": "3.6.6"
  }
 },
 "nbformat": 4,
 "nbformat_minor": 1
}
